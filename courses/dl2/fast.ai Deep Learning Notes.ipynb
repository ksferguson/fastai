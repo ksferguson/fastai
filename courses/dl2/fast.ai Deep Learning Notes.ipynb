{
 "cells": [
  {
   "cell_type": "markdown",
   "metadata": {},
   "source": [
    "# fast.ai Deep Learning Notes\n",
    "\n",
    "This notebook captures my ideas, practices, and framework tips for working with the fast.ai libraries built on top of PyTorch. General Deep Learning content may also be indicated.\n",
    "\n",
    "* **Author**: ksferguson (K. Scott Ferguson)\n",
    "* **Type**: Deep Learning\n",
    "* **Stack**: fast.ai over pyTorch"
   ]
  },
  {
   "cell_type": "markdown",
   "metadata": {},
   "source": [
    "## fast.ai General Approach\n",
    "\n",
    "A. Utilize Transfer Learning whenever possible\n",
    "\n",
    "B. Start simple, then use stepwise refinement\n",
    "\n",
    "C. Train to Overfitting, then tweak back\n",
    "\n",
    "1. Add (more) Data\n",
    "2. Add (more) Data Augmentation\n",
    "3. Add (more) Batch Normalization\n",
    "4. Add (more) Regularization (Dropout, Weight Decay)\n",
    "5. Reduce model complexity"
   ]
  },
  {
   "cell_type": "markdown",
   "metadata": {},
   "source": [
    "## fast.ai  Training Process (Image Classifier) \n",
    "\n",
    "A. Quick Start\n",
    "  * Use pre-trained Imagenet model (ResNet34 or higher) with default new hidden/final layer\n",
    "  * Precompute activations in convolutional layers\n",
    "\n",
    "B. Explore Data\n",
    "\n",
    "C. Find Learning Rate\n",
    "  * Find highest learning rate where loss is still decreasing well\n",
    "\n",
    "D. Train Last Layer(s)\n",
    "  * Use pre-trained Imagenet model\n",
    "  * Precompute activations in convolutional layers\n",
    "  * Use highest learning rate where loss is still decreasing\n",
    "  * Train 1-2 Epochs\n",
    "\n",
    "E. Train More on Last Layer(s)\n",
    "  * Start recomputing activations in convolutional layers\n",
    "  * Augment image data with pans, flips, & zooms\n",
    "  * Restart SGD every epoch (cycle_len=1)\n",
    "  * Train 2-3 Epochs\n",
    "\n",
    "F. Train Full Model\n",
    "  * Unfreeze All Layers\n",
    "  * Recheck Learning Rate for Final Layer\n",
    "  * Use Discriminative Learning Rates\n",
    "  * SGD Restart, set cycle_mult=2\n",
    "  * Use Test Time Data Augmentation\n",
    "\n",
    "G. Analyze Results"
   ]
  },
  {
   "cell_type": "markdown",
   "metadata": {},
   "source": [
    "## General Setup\n",
    "\n",
    "* fast.ai PaperSpace Setup Notes: https://gist.github.com/ksferguson/0b384e892689617d1539d35c1254eb01\n",
    "* Ubuntu Setup Notes for Dell 7559 with GTX 960M: https://gist.github.com/ksferguson/a6eba79df658826cacb629dcc14992eaPaperSpace"
   ]
  },
  {
   "cell_type": "code",
   "execution_count": 1,
   "metadata": {},
   "outputs": [],
   "source": [
    "%matplotlib inline\n",
    "%reload_ext autoreload\n",
    "%autoreload 2"
   ]
  },
  {
   "cell_type": "code",
   "execution_count": 5,
   "metadata": {},
   "outputs": [],
   "source": [
    "#superset of imports - use what you need\n",
    "from fastai.imports import *\n",
    "from fastai.transforms import *\n",
    "from fastai.conv_learner import *\n",
    "from fastai.model import *\n",
    "from fastai.dataset import *\n",
    "from fastai.sgdr import *\n",
    "from fastai.plots import *\n",
    "\n",
    "from pathlib import Path\n",
    "import json\n",
    "from PIL import ImageDraw, ImageFont\n",
    "from matplotlib import patches, patheffects"
   ]
  },
  {
   "cell_type": "code",
   "execution_count": 6,
   "metadata": {},
   "outputs": [],
   "source": [
    "# activate CUDA if needed\n",
    "#torch.cuda.set_device(0)"
   ]
  },
  {
   "cell_type": "code",
   "execution_count": 7,
   "metadata": {},
   "outputs": [
    {
     "data": {
      "text/plain": [
       "True"
      ]
     },
     "execution_count": 7,
     "metadata": {},
     "output_type": "execute_result"
    }
   ],
   "source": [
    "#check CUDA\n",
    "torch.cuda.is_available()"
   ]
  },
  {
   "cell_type": "code",
   "execution_count": 8,
   "metadata": {},
   "outputs": [
    {
     "data": {
      "text/plain": [
       "True"
      ]
     },
     "execution_count": 8,
     "metadata": {},
     "output_type": "execute_result"
    }
   ],
   "source": [
    "#check CuDNN\n",
    "torch.backends.cudnn.enabled"
   ]
  },
  {
   "cell_type": "markdown",
   "metadata": {},
   "source": [
    "## Data"
   ]
  },
  {
   "cell_type": "markdown",
   "metadata": {},
   "source": [
    "from CSV, Folders, etc\n",
    "\n",
    "\n",
    "DataSet\n",
    "\n",
    "DataLoader\n",
    "\n",
    "ModelData"
   ]
  },
  {
   "cell_type": "markdown",
   "metadata": {},
   "source": [
    "\n",
    "## Batch Normalization\n",
    "\n",
    "## Regularization\n",
    "\n",
    "### Dropout\n",
    "\n",
    "### Weight Decay\n",
    "\n",
    "## Optimizers\n",
    "\n",
    "### AdamW\n",
    "\n",
    "## Loss Functions\n",
    "\n",
    "### Mean Squared Error\n",
    "\n",
    "### Mean Squared Error\n",
    "\n",
    "### Cross Entropy\n",
    "\n",
    "### Neg Log Loss\n",
    "\n",
    "### Focal Loss\n"
   ]
  },
  {
   "cell_type": "code",
   "execution_count": null,
   "metadata": {},
   "outputs": [],
   "source": []
  }
 ],
 "metadata": {
  "kernelspec": {
   "display_name": "Python 3",
   "language": "python",
   "name": "python3"
  },
  "language_info": {
   "codemirror_mode": {
    "name": "ipython",
    "version": 3
   },
   "file_extension": ".py",
   "mimetype": "text/x-python",
   "name": "python",
   "nbconvert_exporter": "python",
   "pygments_lexer": "ipython3",
   "version": "3.6.5"
  }
 },
 "nbformat": 4,
 "nbformat_minor": 2
}
